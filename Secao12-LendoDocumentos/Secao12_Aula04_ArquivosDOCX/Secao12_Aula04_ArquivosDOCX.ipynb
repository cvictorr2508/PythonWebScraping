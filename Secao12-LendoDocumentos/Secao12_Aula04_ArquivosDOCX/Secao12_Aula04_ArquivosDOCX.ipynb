{
 "cells": [
  {
   "cell_type": "markdown",
   "metadata": {},
   "source": [
    "# CURSO PYTHON WEB SCRAPING"
   ]
  },
  {
   "cell_type": "markdown",
   "metadata": {},
   "source": [
    "https://www.udemy.com/python-web-scraping/"
   ]
  },
  {
   "cell_type": "raw",
   "metadata": {},
   "source": [
    "Evaldo Wolkers"
   ]
  },
  {
   "cell_type": "markdown",
   "metadata": {},
   "source": [
    "## Lendo documentos"
   ]
  },
  {
   "attachments": {},
   "cell_type": "markdown",
   "metadata": {},
   "source": [
    "## Arquivos DOCX (Microsoft Word)"
   ]
  },
  {
   "attachments": {},
   "cell_type": "markdown",
   "metadata": {},
   "source": [
    "Documento criado pelo Microsoft Word, um programa comum de processamento de texto; contém texto do documento, imagens, formatação, estilos, objetos desenhados e outras configurações do documento; comumente usado para criar documentos em ambientes comerciais e acadêmicos.\n",
    "\n",
    "Ao contrário dos arquivos .DOC, que armazenam dados de documentos em um único arquivo binário, os arquivos DOCX são criados usando o formato Open XML, que armazena documentos como uma coleção de arquivos e pastas separados em um pacote zip compactado. Os arquivos DOCX contêm arquivos XML e três pastas, docProps, Word e _rels, que contêm as propriedades, o conteúdo e os relacionamentos do documento entre os arquivos."
   ]
  },
  {
   "cell_type": "markdown",
   "metadata": {},
   "source": [
    "Arquivos DOCX são projetados para tornar o conteúdo do documento acessível. Por exemplo, o texto do documento é salvo usando arquivos de texto simples e as imagens do documento são armazenadas como arquivos de imagem individuais no arquivo DOCX.\n",
    "\n",
    "Arquivos DOCX podem ser abertos pelo Word 2007 ou posterior para Windows, ou com o Word 2008 ou posterior para Mac OS X. Eles também podem ser abertos com versões anteriores do Word para Mac e Windows por meio de suporte a documentos Open XML. Arquivos DOCX também podem ser abertos pelo LibreOffice Writer, que é um editor de textos similar ao Microsoft Word, porém de código aberto.\n",
    "\n",
    "OBSERVAÇÃO: Para explorar o conteúdo de um arquivo DOCX manualmente, renomeie a extensão \".docx\" para \".zip\" e, em seguida, descompacte o arquivo resultante com qualquer utilitário de descompactação de zip.\n",
    "\n",
    "Fonte: http://fileformat.wikia.com/wiki/DOCX"
   ]
  },
  {
   "cell_type": "markdown",
   "metadata": {},
   "source": [
    "Veja o conteúdo de um arquivo DOCX descompactado:"
   ]
  },
  {
   "cell_type": "raw",
   "metadata": {},
   "source": [
    "|   [Content_Types].xml\n",
    "|   \n",
    "----docProps\n",
    "|       app.xml\n",
    "|       core.xml\n",
    "|       \n",
    "----word\n",
    "|   |   document.xml\n",
    "|   |   fontTable.xml\n",
    "|   |   settings.xml\n",
    "|   |   styles.xml\n",
    "|   |   webSettings.xml\n",
    "|   |   \n",
    "|   ----media\n",
    "|   |       image1.png\n",
    "|   |       image2.png\n",
    "|   |       image3.png\n",
    "|   |       image4.png\n",
    "|   |       image5.png\n",
    "|   |       \n",
    "|   ----theme\n",
    "|   |       theme1.xml\n",
    "|   |       \n",
    "|   ----_rels\n",
    "|           document.xml.rels\n",
    "|           \n",
    "----_rels\n",
    "        .rels"
   ]
  },
  {
   "cell_type": "markdown",
   "metadata": {},
   "source": [
    "![imagem1.png](imagens/imagem1.png)"
   ]
  },
  {
   "cell_type": "markdown",
   "metadata": {},
   "source": [
    "Para trabalharmos com arquivos DOCX podemos utilizar a biblioteca python-docx que pode ser instalada utilizando-se o pip.\n",
    "\n",
    "$ pip install python-docx"
   ]
  },
  {
   "cell_type": "markdown",
   "metadata": {},
   "source": [
    "Vamos ler um documento DOCX e imprimir seu conteúdo.\n",
    "Para importar a biblioteca Python-Docx usamos “import docx”."
   ]
  },
  {
   "cell_type": "code",
   "execution_count": 4,
   "metadata": {},
   "outputs": [
    {
     "name": "stdout",
     "output_type": "stream",
     "text": [
      "\n",
      "Curso Python Web Scraping\n",
      "\n",
      "Evaldo Wolkers\n",
      "\n",
      "Lendo documentos\n",
      "\n",
      "\n",
      "Arquivos PDF\n",
      "Ao realizar um scraping você pode ter a necessidade de tratar arquivos PDF.\n",
      "O PDF (Portable Document Format) é um formato de arquivo, desenvolvido pela Adobe Systems em 1993, para representar documentos de maneira independente do aplicativo, do hardware e do sistema operacional usados para criá-los. Um arquivo PDF pode descrever documentos que contenham texto, gráficos e imagens num formato independente de dispositivo e resolução.\n",
      "O PDF é um padrão aberto, e qualquer pessoa pode escrever aplicativos que leiam ou escrevam neste padrão. Há aplicativos gratuitos para Microsoft Windows, Mac e Linux, alguns deles distribuídos pela própria Adobe e há diversos aplicativos sob licenças livres. \n",
      "\n",
      "Fonte: \n",
      "\n",
      "Um arquivo PDF\n",
      "aberto no Adobe \n",
      "Acrobat Reader,\n",
      "que é um programa\n",
      "gratuito para leitura de arquivos PDF. Nas minhas aulas tenho disponibilizado materiais em PDF.\n",
      "\n",
      "Para trabalhar com arquivos PDF podemos usar a biblioteca PDFMiner3k.\n",
      "O PDFMiner3k é uma implementação do pdfminer para Python.\n",
      "O PDFMiner é uma ferramenta para extrair informações de documentos PDF.\n",
      "Ao contrário de outras ferramentas relacionadas a PDF, ele se concentra inteiramente em obter e analisar dados de texto. O PDFMiner permite obter a localização exata dos textos em uma página, bem como outras informações, como fontes ou linhas.\n",
      "Inclui um conversor de PDF que pode transformar arquivos PDF em outros formatos de texto (como HTML).\n",
      "\n",
      "Podemos instalar esta biblioteca utilizando o pip.\n",
      "$ pip install pdfminer3k\n",
      "\n",
      "\n",
      "\n",
      "\n",
      "Realizando as importações necessárias.\n",
      "\n",
      "from pdfminer.pdfinterp import PDFResourceManager, process_pdf\n",
      "from pdfminer.converter import TextConverter\n",
      "from pdfminer.layout import LAParams\n",
      "from io import StringIO\n",
      "# Para abrir um PDF localmente\n",
      "from io import open\n",
      "# Para abrir um PDF online\n",
      "from urllib.request import urlopen\n",
      "\n",
      "PDFResourceManager\n",
      "Repositório de recursos compartilhados.\n",
      "ResourceManager facilita a reutilização de recursos compartilhados tais como fontes e imagens, para que objetos não sejam  alocados várias vezes ocupando muito espaço em memória.\n",
      "\n",
      "LAParams\n",
      "Define os parâmetros que serão passados para a função TextConverter.\n",
      "line_overlap=0.5 (sobreposição de linha)\n",
      "char_margin=2.0 (margem do caracter)\n",
      "line_margin=0.5 (margem da linha)\n",
      "word_margin=0.1 (margem da palavra)\n",
      "paragraph_indent=None (indentação de parágrafo)\n",
      "\n",
      "TextConverter\n",
      "Converte o conteúdo do PDF em texto.\n",
      "HTMLConverter\n",
      "Converte o conteúdo do PDF em HTML.\n",
      "XMLConverter\n",
      "Converte o conteúdo do PDF em XML.\n",
      "\n",
      "Process_pdf\n",
      "process_pdf é uma função que executa as seguintes tarefas:\n",
      "Cria um objeto analisador de PDF associado ao objeto de arquivo.\n",
      "Cria um objeto de documento PDF que armazena a estrutura do documento.\n",
      "Conecta o analisador e os objetos do documento.\n",
      "Fornece a senha ao documento para inicialização (caso você tenha informado uma senha).\n",
      "Verifica se o documento permite a extração de texto. Se não permite, aborta.\n",
      "Cria um objeto de interpretação de PDF.\n",
      "Processa cada página contida no documento.\n",
      "\n",
      "def lerPDF(arquivoPDF):\n",
      "    # PDFResourceManager Usado para armazenar recursos compartilhados\n",
      "    # como fontes e imagens\n",
      "    recursos = PDFResourceManager()\n",
      "    buffer = StringIO()\n",
      "    layoutParams = LAParams()\n",
      "    dispositivo = TextConverter(recursos, buffer, laparams=layoutParams)\n",
      "\n",
      "    process_pdf(recursos, dispositivo, arquivoPDF)\n",
      "    dispositivo.close()\n",
      "\n",
      "    conteudo = buffer.getvalue()\n",
      "    buffer.close()\n",
      "    return conteúdo\n",
      "\n",
      "# Arquivo PDF online\n",
      "#arquivoPDF = urlopen(\"https://s3.novatec.com.br/sumarios/sumario-9788575226926.pdf\")\n",
      "# Arquivo PDF local (Abrindo modo leitura e binário)\n",
      "arquivoPDF = open(\"sumario-9788575226926.pdf\", \"rb\")\n",
      "stringSaida = lerPDF(arquivoPDF)\n",
      "print(stringSaida)\n",
      "arquivoPDF.close()\n",
      "\n",
      "\n",
      "\n",
      "\n",
      "Convertendo\n",
      "em HTML\n",
      "from pdfminer.pdfinterp import PDFResourceManager, process_pdf\n",
      "from pdfminer.converter import HTMLConverter\n",
      "from pdfminer.layout import LAParams\n",
      "from io import StringIO\n",
      "from urllib.request import urlopen\n",
      "\n",
      "def lerPDF(arquivo):\n",
      "    recursos = PDFResourceManager()\n",
      "    buffer = StringIO()\n",
      "    layoutParams = LAParams()\n",
      "    disp = HTMLConverter(recursos, buffer, laparams=layoutParams)\n",
      "\n",
      "    process_pdf(recursos, disp, arquivo)\n",
      "    disp.close()\n",
      "\n",
      "    conteudo = buffer.getvalue()\n",
      "    buffer.close()\n",
      "    return conteudo\n",
      "\n",
      "arquivoPDF = urlopen(\"https://s3.novatec.com.br/sumarios/sumario-9788575226926.pdf\")\n",
      "saida = lerPDF(arquivoPDF)\n",
      "print(saida)\n",
      "arquivoPDF.close()\n",
      "\n",
      "Convertendo\n",
      "em XML\n",
      "\n",
      "from pdfminer.pdfinterp import PDFResourceManager, process_pdf\n",
      "from pdfminer.converter import XMLConverter\n",
      "from pdfminer.layout import LAParams\n",
      "from io import StringIO\n",
      "from urllib.request import urlopen\n",
      "\n",
      "def lerPDF(arquivo):\n",
      "    recursos = PDFResourceManager()\n",
      "    buffer = StringIO()\n",
      "    layoutParams = LAParams()\n",
      "    disp = XMLConverter(recursos, buffer, laparams=layoutParams)\n",
      "\n",
      "    process_pdf(recursos, disp, arquivo)\n",
      "    disp.close()\n",
      "\n",
      "    conteudo = buffer.getvalue()\n",
      "    buffer.close()\n",
      "    return conteudo\n",
      "\n",
      "arquivoPDF = urlopen(\"https://s3.novatec.com.br/sumarios/sumario-9788575226926.pdf\")\n",
      "saida = lerPDF(arquivoPDF)\n",
      "print(saida)\n",
      "arquivoPDF.close()\n",
      "\n",
      "\n",
      "Obs.: Para exportar para XML e HTML tive que alterar o arquivo \n",
      "“Python36\\Lib\\site-packages\\pdfminer\\utils.py”\n",
      "da biblioteca pdfminer e estou disponibilizando em anexo à aula.\n",
      "A função htmlescape tem que ser corrigida.\n",
      "def htmlescape(s, encoding=None):\n",
      "    \"\"\"Escapes a string for SGML/XML/HTML\"\"\"\n",
      "    s = s.replace('&','&amp;').replace('>','&gt;').replace('<','&lt;').replace('\"','&quot;')\n",
      "    # Additionally to basic replaces, we also make sure that all characters are convertible to our\n",
      "    # target encoding. If they're not, they're replaced by XML entities.\n",
      "    if not encoding:\n",
      "        encoding = 'ascii'\n",
      "    encoded = s.encode(encoding, errors='xmlcharrefreplace')\n",
      "    return encoded.decode(encoding)\n"
     ]
    }
   ],
   "source": [
    "import docx\n",
    "doc = docx.Document('codigo\\ArquivoWord.docx')\n",
    "for a in doc.paragraphs:\n",
    "    print(a.text)"
   ]
  },
  {
   "cell_type": "markdown",
   "metadata": {},
   "source": [
    "Comparado ao texto simples, os arquivos .docx têm muita estrutura. Essa estrutura é representada por três tipos de dados diferentes no Python-Docx. No nível mais alto, um objeto Document representa o documento inteiro. O objeto Document contém uma lista de objetos Paragraph para os parágrafos do documento. (Um novo parágrafo começa sempre que o usuário pressiona ENTER ou RETURN enquanto digita em um documento do Word.)"
   ]
  },
  {
   "cell_type": "markdown",
   "metadata": {},
   "source": [
    "Cada um desses objetos Paragraph contém uma lista de um ou mais objetos Run. Um objeto Run é uma execução contígua de texto com o mesmo estilo. Um novo objeto Run é necessário sempre que o estilo de texto é alterado.\n",
    "O parágrafo a seguir possui 7 objetos Run.\n",
    "Olá, estamos trabalhando com arquivos DOCX, que são documentos do Microsoft Word. Adeus!"
   ]
  },
  {
   "cell_type": "markdown",
   "metadata": {},
   "source": [
    "![imagem2](imagens/imagem2.png)"
   ]
  },
  {
   "cell_type": "markdown",
   "metadata": {},
   "source": [
    "Imprimindo o conteúdo text do objeto Run."
   ]
  },
  {
   "cell_type": "code",
   "execution_count": 7,
   "metadata": {},
   "outputs": [
    {
     "name": "stdout",
     "output_type": "stream",
     "text": [
      "Olá, estamos trabalhando com arquivos \n",
      "DOCX\n",
      ", que são documentos do \n",
      "Microsoft Word\n",
      ". \n",
      "Adeus\n",
      "!\n"
     ]
    }
   ],
   "source": [
    "import docx\n",
    "\n",
    "doc = docx.Document('codigo\\ArquivoWord2.docx')\n",
    "\n",
    "total_runs = len(doc.paragraphs[0].runs)\u000b",
    "contador = 0\n",
    "while contador < total_runs:\n",
    "    print(doc.paragraphs[0].runs[contador].text)\n",
    "    contador += 1"
   ]
  },
  {
   "cell_type": "markdown",
   "metadata": {},
   "source": [
    "Salvando o conteúdo do arquivo DOCX em um arquivo de texto."
   ]
  },
  {
   "cell_type": "code",
   "execution_count": 9,
   "metadata": {},
   "outputs": [],
   "source": [
    "import docx\n",
    "\n",
    "doc = docx.Document('codigo\\ArquivoWord.docx')\n",
    "\n",
    "for a in doc.paragraphs:\n",
    "    with open('resultado.txt', 'a') as arquivo:\n",
    "        arquivo.write(a.text)"
   ]
  },
  {
   "cell_type": "markdown",
   "metadata": {},
   "source": [
    "Criando uma função para ler um arquivo DOCX."
   ]
  },
  {
   "cell_type": "code",
   "execution_count": 10,
   "metadata": {},
   "outputs": [],
   "source": [
    "import docx\n",
    "\n",
    "\n",
    "def ler(arquivo):\n",
    "    try:\n",
    "        doc = docx.Document(arquivo)\n",
    "        texto = []\n",
    "\n",
    "        for paragrafo in doc.paragraphs:\n",
    "            texto.append(paragrafo.text)\n",
    "        return '\\n'.join(texto)\n",
    "    except Exception as erro:\n",
    "        return \"Ocorreu um erro:\", erro"
   ]
  },
  {
   "cell_type": "markdown",
   "metadata": {},
   "source": [
    "Vamos agora implementar um outro código para usar a função \"ler\"."
   ]
  },
  {
   "cell_type": "code",
   "execution_count": 18,
   "metadata": {},
   "outputs": [
    {
     "name": "stdout",
     "output_type": "stream",
     "text": [
      "\n",
      "Curso Python Web Scraping\n",
      "\n",
      "Evaldo Wolkers\n",
      "\n",
      "Lendo documentos\n",
      "\n",
      "\n",
      "Arquivos PDF\n",
      "Ao realizar um scraping você pode ter a necessidade de tratar arquivos PDF.\n",
      "O PDF (Portable Document Format) é um formato de arquivo, desenvolvido pela Adobe Systems em 1993, para representar documentos de maneira independente do aplicativo, do hardware e do sistema operacional usados para criá-los. Um arquivo PDF pode descrever documentos que contenham texto, gráficos e imagens num formato independente de dispositivo e resolução.\n",
      "O PDF é um padrão aberto, e qualquer pessoa pode escrever aplicativos que leiam ou escrevam neste padrão. Há aplicativos gratuitos para Microsoft Windows, Mac e Linux, alguns deles distribuídos pela própria Adobe e há diversos aplicativos sob licenças livres. \n",
      "\n",
      "Fonte: \n",
      "\n",
      "Um arquivo PDF\n",
      "aberto no Adobe \n",
      "Acrobat Reader,\n",
      "que é um programa\n",
      "gratuito para leitura de arquivos PDF. Nas minhas aulas tenho disponibilizado materiais em PDF.\n",
      "\n",
      "Para trabalhar com arquivos PDF podemos usar a biblioteca PDFMiner3k.\n",
      "O PDFMiner3k é uma implementação do pdfminer para Python.\n",
      "O PDFMiner é uma ferramenta para extrair informações de documentos PDF.\n",
      "Ao contrário de outras ferramentas relacionadas a PDF, ele se concentra inteiramente em obter e analisar dados de texto. O PDFMiner permite obter a localização exata dos textos em uma página, bem como outras informações, como fontes ou linhas.\n",
      "Inclui um conversor de PDF que pode transformar arquivos PDF em outros formatos de texto (como HTML).\n",
      "\n",
      "Podemos instalar esta biblioteca utilizando o pip.\n",
      "$ pip install pdfminer3k\n",
      "\n",
      "\n",
      "\n",
      "\n",
      "Realizando as importações necessárias.\n",
      "\n",
      "from pdfminer.pdfinterp import PDFResourceManager, process_pdf\n",
      "from pdfminer.converter import TextConverter\n",
      "from pdfminer.layout import LAParams\n",
      "from io import StringIO\n",
      "# Para abrir um PDF localmente\n",
      "from io import open\n",
      "# Para abrir um PDF online\n",
      "from urllib.request import urlopen\n",
      "\n",
      "PDFResourceManager\n",
      "Repositório de recursos compartilhados.\n",
      "ResourceManager facilita a reutilização de recursos compartilhados tais como fontes e imagens, para que objetos não sejam  alocados várias vezes ocupando muito espaço em memória.\n",
      "\n",
      "LAParams\n",
      "Define os parâmetros que serão passados para a função TextConverter.\n",
      "line_overlap=0.5 (sobreposição de linha)\n",
      "char_margin=2.0 (margem do caracter)\n",
      "line_margin=0.5 (margem da linha)\n",
      "word_margin=0.1 (margem da palavra)\n",
      "paragraph_indent=None (indentação de parágrafo)\n",
      "\n",
      "TextConverter\n",
      "Converte o conteúdo do PDF em texto.\n",
      "HTMLConverter\n",
      "Converte o conteúdo do PDF em HTML.\n",
      "XMLConverter\n",
      "Converte o conteúdo do PDF em XML.\n",
      "\n",
      "Process_pdf\n",
      "process_pdf é uma função que executa as seguintes tarefas:\n",
      "Cria um objeto analisador de PDF associado ao objeto de arquivo.\n",
      "Cria um objeto de documento PDF que armazena a estrutura do documento.\n",
      "Conecta o analisador e os objetos do documento.\n",
      "Fornece a senha ao documento para inicialização (caso você tenha informado uma senha).\n",
      "Verifica se o documento permite a extração de texto. Se não permite, aborta.\n",
      "Cria um objeto de interpretação de PDF.\n",
      "Processa cada página contida no documento.\n",
      "\n",
      "def lerPDF(arquivoPDF):\n",
      "    # PDFResourceManager Usado para armazenar recursos compartilhados\n",
      "    # como fontes e imagens\n",
      "    recursos = PDFResourceManager()\n",
      "    buffer = StringIO()\n",
      "    layoutParams = LAParams()\n",
      "    dispositivo = TextConverter(recursos, buffer, laparams=layoutParams)\n",
      "\n",
      "    process_pdf(recursos, dispositivo, arquivoPDF)\n",
      "    dispositivo.close()\n",
      "\n",
      "    conteudo = buffer.getvalue()\n",
      "    buffer.close()\n",
      "    return conteúdo\n",
      "\n",
      "# Arquivo PDF online\n",
      "#arquivoPDF = urlopen(\"https://s3.novatec.com.br/sumarios/sumario-9788575226926.pdf\")\n",
      "# Arquivo PDF local (Abrindo modo leitura e binário)\n",
      "arquivoPDF = open(\"sumario-9788575226926.pdf\", \"rb\")\n",
      "stringSaida = lerPDF(arquivoPDF)\n",
      "print(stringSaida)\n",
      "arquivoPDF.close()\n",
      "\n",
      "\n",
      "\n",
      "\n",
      "Convertendo\n",
      "em HTML\n",
      "from pdfminer.pdfinterp import PDFResourceManager, process_pdf\n",
      "from pdfminer.converter import HTMLConverter\n",
      "from pdfminer.layout import LAParams\n",
      "from io import StringIO\n",
      "from urllib.request import urlopen\n",
      "\n",
      "def lerPDF(arquivo):\n",
      "    recursos = PDFResourceManager()\n",
      "    buffer = StringIO()\n",
      "    layoutParams = LAParams()\n",
      "    disp = HTMLConverter(recursos, buffer, laparams=layoutParams)\n",
      "\n",
      "    process_pdf(recursos, disp, arquivo)\n",
      "    disp.close()\n",
      "\n",
      "    conteudo = buffer.getvalue()\n",
      "    buffer.close()\n",
      "    return conteudo\n",
      "\n",
      "arquivoPDF = urlopen(\"https://s3.novatec.com.br/sumarios/sumario-9788575226926.pdf\")\n",
      "saida = lerPDF(arquivoPDF)\n",
      "print(saida)\n",
      "arquivoPDF.close()\n",
      "\n",
      "Convertendo\n",
      "em XML\n",
      "\n",
      "from pdfminer.pdfinterp import PDFResourceManager, process_pdf\n",
      "from pdfminer.converter import XMLConverter\n",
      "from pdfminer.layout import LAParams\n",
      "from io import StringIO\n",
      "from urllib.request import urlopen\n",
      "\n",
      "def lerPDF(arquivo):\n",
      "    recursos = PDFResourceManager()\n",
      "    buffer = StringIO()\n",
      "    layoutParams = LAParams()\n",
      "    disp = XMLConverter(recursos, buffer, laparams=layoutParams)\n",
      "\n",
      "    process_pdf(recursos, disp, arquivo)\n",
      "    disp.close()\n",
      "\n",
      "    conteudo = buffer.getvalue()\n",
      "    buffer.close()\n",
      "    return conteudo\n",
      "\n",
      "arquivoPDF = urlopen(\"https://s3.novatec.com.br/sumarios/sumario-9788575226926.pdf\")\n",
      "saida = lerPDF(arquivoPDF)\n",
      "print(saida)\n",
      "arquivoPDF.close()\n",
      "\n",
      "\n",
      "Obs.: Para exportar para XML e HTML tive que alterar o arquivo \n",
      "“Python36\\Lib\\site-packages\\pdfminer\\utils.py”\n",
      "da biblioteca pdfminer e estou disponibilizando em anexo à aula.\n",
      "A função htmlescape tem que ser corrigida.\n",
      "def htmlescape(s, encoding=None):\n",
      "    \"\"\"Escapes a string for SGML/XML/HTML\"\"\"\n",
      "    s = s.replace('&','&amp;').replace('>','&gt;').replace('<','&lt;').replace('\"','&quot;')\n",
      "    # Additionally to basic replaces, we also make sure that all characters are convertible to our\n",
      "    # target encoding. If they're not, they're replaced by XML entities.\n",
      "    if not encoding:\n",
      "        encoding = 'ascii'\n",
      "    encoded = s.encode(encoding, errors='xmlcharrefreplace')\n",
      "    return encoded.decode(encoding)\n"
     ]
    }
   ],
   "source": [
    "print(ler('codigo\\ArquivoWord.docx'))"
   ]
  },
  {
   "cell_type": "markdown",
   "metadata": {},
   "source": [
    "Identificando o estilo do parágrafo"
   ]
  },
  {
   "cell_type": "code",
   "execution_count": 19,
   "metadata": {},
   "outputs": [
    {
     "name": "stdout",
     "output_type": "stream",
     "text": [
      "Normal\n",
      "Heading 1\n",
      "Heading 2\n",
      "Heading 3\n",
      "Normal\n",
      "Heading 4\n",
      "Normal\n",
      "Normal\n",
      "Normal\n",
      "Normal\n",
      "Normal\n",
      "Normal\n",
      "Normal\n"
     ]
    }
   ],
   "source": [
    "import docx\n",
    "\n",
    "doc = docx.Document('codigo\\ArquivoWord3.docx')\n",
    "\n",
    "paragrafos = len(doc.paragraphs)\n",
    "contador = 0\n",
    "\n",
    "while contador < paragrafos:\n",
    "    print(doc.paragraphs[contador].style.name)\n",
    "    if doc.paragraphs[contador].style.name == 'Heading 4':\n",
    "        doc.paragraphs[contador].style.name = 'Normal'\n",
    "    contador += 1\n",
    "\n",
    "doc.save('arquivo_salvo.docx')"
   ]
  },
  {
   "cell_type": "code",
   "execution_count": null,
   "metadata": {},
   "outputs": [],
   "source": []
  }
 ],
 "metadata": {
  "kernelspec": {
   "display_name": "Python 3",
   "language": "python",
   "name": "python3"
  },
  "language_info": {
   "codemirror_mode": {
    "name": "ipython",
    "version": 3
   },
   "file_extension": ".py",
   "mimetype": "text/x-python",
   "name": "python",
   "nbconvert_exporter": "python",
   "pygments_lexer": "ipython3",
   "version": "3.6.5"
  }
 },
 "nbformat": 4,
 "nbformat_minor": 2
}
