{
 "cells": [
  {
   "cell_type": "markdown",
   "metadata": {},
   "source": [
    "# CURSO PYTHON WEB SCRAPING"
   ]
  },
  {
   "cell_type": "markdown",
   "metadata": {},
   "source": [
    "https://www.udemy.com/python-web-scraping/"
   ]
  },
  {
   "cell_type": "raw",
   "metadata": {},
   "source": [
    "Evaldo Wolkers"
   ]
  },
  {
   "cell_type": "markdown",
   "metadata": {},
   "source": [
    "## Lendo documentos"
   ]
  },
  {
   "cell_type": "markdown",
   "metadata": {},
   "source": [
    "## Arquivos CSV"
   ]
  },
  {
   "attachments": {},
   "cell_type": "markdown",
   "metadata": {},
   "source": [
    "Ao realizar um scraping você pode ter a necessidade de tratar arquivos CSV. Arquivos CSV são arquivos separados por vírgula (Comma-separated values). Um programa que pode ser usado para ler e gravar arquivos CSV é o Microsoft Excel, por exemplo."
   ]
  },
  {
   "cell_type": "markdown",
   "metadata": {},
   "source": [
    "Temos três alternativas de como tratar um arquivo CSV:<br>\n",
    "1) Baixar o arquivo manualmente e informar ao programa.<br>\n",
    "2) Baixar o arquivo diretamente no programa.<br>\n",
    "3) Recuperar o arquivo como uma string e inserir seu conteúdo em um objeto StringIO.<br>"
   ]
  },
  {
   "attachments": {},
   "cell_type": "markdown",
   "metadata": {},
   "source": [
    "A terceira opção é interessante por não envolver salvar arquivos em disco, assim podemos tratar o arquivo diretamente no sistema.\n",
    "O módulo StringIO realiza leitura e escrita de strings em buffer (arquivos em memória)."
   ]
  },
  {
   "cell_type": "markdown",
   "metadata": {},
   "source": [
    "O Python possui uma biblioteca denominada csv que é muito eficiente para trabalhar com este tipo de arquivo."
   ]
  },
  {
   "attachments": {},
   "cell_type": "markdown",
   "metadata": {},
   "source": [
    "Exemplo de leitura e impressão do conteúdo de um arquivo csv em forma de lista."
   ]
  },
  {
   "cell_type": "code",
   "execution_count": null,
   "metadata": {},
   "outputs": [],
   "source": [
    "from urllib.request import urlopen\n",
    "from io import StringIO\n",
    "import csv\n",
    "\n",
    "url = input(\"Informe o caminho do arquivo CSV: \")\n",
    "dados = urlopen(url).read().decode(encoding='utf-8', errors='ignore')\n",
    "arqDados = StringIO(dados)\n",
    "csvReader = csv.reader(arqDados)\n",
    "\n",
    "for linha in csvReader:\n",
    "    print(linha)"
   ]
  },
  {
   "attachments": {},
   "cell_type": "markdown",
   "metadata": {},
   "source": [
    "Ao informar o endereço de um arquivo csv o sistema irá imprimir todas as linhas:"
   ]
  },
  {
   "cell_type": "markdown",
   "metadata": {},
   "source": [
    "![imagem1](imagens/Imagem1.png)"
   ]
  },
  {
   "attachments": {},
   "cell_type": "markdown",
   "metadata": {},
   "source": [
    "O arquivo usado neste exemplo foi encontrado através de uma busca no Google por “filetype:csv” e seu endereço é: http://localcarmarketing.com/11327.csv"
   ]
  },
  {
   "attachments": {},
   "cell_type": "markdown",
   "metadata": {},
   "source": [
    "Observe no resultado que a primeira linha do arquivo é um cabeçalho (DealerId, FeedId, etc)."
   ]
  },
  {
   "cell_type": "markdown",
   "metadata": {},
   "source": [
    "![imagem2](imagens/Imagem2.png)"
   ]
  },
  {
   "attachments": {},
   "cell_type": "markdown",
   "metadata": {},
   "source": [
    "Se quisermos utilizar esta linha para retornar dicionários em vez de uma lista, podemos usar o método DictReader."
   ]
  },
  {
   "attachments": {},
   "cell_type": "markdown",
   "metadata": {},
   "source": [
    "Exemplo de leitura e impressão do conteúdo de um arquivo csv em forma de dicionário."
   ]
  },
  {
   "cell_type": "code",
   "execution_count": null,
   "metadata": {},
   "outputs": [],
   "source": [
    "from urllib.request import urlopen\n",
    "from io import StringIO\n",
    "import csv\n",
    "\n",
    "url = input(\"Informe o caminho do arquivo CSV: \")\n",
    "dados = urlopen(url).read().decode('utf-8', 'ignore')\n",
    "arqDados = StringIO(dados)\n",
    "csvReader = csv.DictReader(arqDados)\n",
    "\n",
    "for linha in csvReader:\n",
    "    print(linha)"
   ]
  },
  {
   "cell_type": "code",
   "execution_count": null,
   "metadata": {},
   "outputs": [],
   "source": []
  }
 ],
 "metadata": {
  "kernelspec": {
   "display_name": "Python 3",
   "language": "python",
   "name": "python3"
  },
  "language_info": {
   "codemirror_mode": {
    "name": "ipython",
    "version": 3
   },
   "file_extension": ".py",
   "mimetype": "text/x-python",
   "name": "python",
   "nbconvert_exporter": "python",
   "pygments_lexer": "ipython3",
   "version": "3.6.5"
  }
 },
 "nbformat": 4,
 "nbformat_minor": 2
}
