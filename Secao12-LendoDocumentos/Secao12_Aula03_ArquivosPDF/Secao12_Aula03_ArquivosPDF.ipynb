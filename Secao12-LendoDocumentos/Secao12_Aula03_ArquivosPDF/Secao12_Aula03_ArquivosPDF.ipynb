{
 "cells": [
  {
   "cell_type": "markdown",
   "metadata": {},
   "source": [
    "# CURSO PYTHON WEB SCRAPING"
   ]
  },
  {
   "cell_type": "markdown",
   "metadata": {},
   "source": [
    "https://www.udemy.com/python-web-scraping/"
   ]
  },
  {
   "cell_type": "raw",
   "metadata": {},
   "source": [
    "Evaldo Wolkers"
   ]
  },
  {
   "cell_type": "markdown",
   "metadata": {},
   "source": [
    "## Lendo documentos"
   ]
  },
  {
   "cell_type": "markdown",
   "metadata": {},
   "source": [
    "## Arquivos PDF"
   ]
  },
  {
   "attachments": {},
   "cell_type": "markdown",
   "metadata": {},
   "source": [
    "Ao realizar um scraping você pode ter a necessidade de tratar arquivos PDF.\n",
    "O PDF (Portable Document Format) é um formato de arquivo, desenvolvido pela Adobe Systems em 1993, para representar documentos de maneira independente do aplicativo, do hardware e do sistema operacional usados para criá-los. Um arquivo PDF pode descrever documentos que contenham texto, gráficos e imagens num formato independente de dispositivo e resolução."
   ]
  },
  {
   "attachments": {},
   "cell_type": "markdown",
   "metadata": {},
   "source": [
    "O PDF é um padrão aberto, e qualquer pessoa pode escrever aplicativos que leiam ou escrevam neste padrão. Há aplicativos gratuitos para Microsoft Windows, Mac e Linux, alguns deles distribuídos pela própria Adobe e há diversos aplicativos sob licenças livres.\n",
    "Fonte: https://pt.wikipedia.org/wiki/Portable_Document_Format"
   ]
  },
  {
   "cell_type": "markdown",
   "metadata": {},
   "source": [
    "![imagem1](imagens\\Imagem1.png)"
   ]
  },
  {
   "attachments": {},
   "cell_type": "markdown",
   "metadata": {},
   "source": [
    "Para trabalhar com arquivos PDF podemos usar a biblioteca PDFMiner3k.\n",
    "O PDFMiner3k é uma implementação do pdfminer para Python.\n",
    "O PDFMiner é uma ferramenta para extrair informações de documentos PDF.\n",
    "Ao contrário de outras ferramentas relacionadas a PDF, ele se concentra inteiramente em obter e analisar dados de texto. O PDFMiner permite obter a localização exata dos textos em uma página, bem como outras informações, como fontes ou linhas.\n",
    "Inclui um conversor de PDF que pode transformar arquivos PDF em outros formatos de texto (como HTML)."
   ]
  },
  {
   "cell_type": "raw",
   "metadata": {},
   "source": [
    "Podemos instalar esta biblioteca utilizando o pip.\n",
    "$ pip install pdfminer3k"
   ]
  },
  {
   "cell_type": "markdown",
   "metadata": {},
   "source": [
    "![imagem2](imagens\\Imagem2.png)"
   ]
  },
  {
   "cell_type": "markdown",
   "metadata": {},
   "source": [
    "![imagem3](imagens\\Imagem3.png)"
   ]
  },
  {
   "attachments": {},
   "cell_type": "markdown",
   "metadata": {},
   "source": [
    "Realizando as importações necessárias."
   ]
  },
  {
   "cell_type": "code",
   "execution_count": 3,
   "metadata": {},
   "outputs": [
    {
     "ename": "SyntaxError",
     "evalue": "invalid syntax (<ipython-input-3-76b403f27be2>, line 1)",
     "output_type": "error",
     "traceback": [
      "\u001b[1;36m  File \u001b[1;32m\"<ipython-input-3-76b403f27be2>\"\u001b[1;36m, line \u001b[1;32m1\u001b[0m\n\u001b[1;33m    from pdfminer.pdfinterp\u001b[0m\n\u001b[1;37m                           ^\u001b[0m\n\u001b[1;31mSyntaxError\u001b[0m\u001b[1;31m:\u001b[0m invalid syntax\n"
     ]
    }
   ],
   "source": [
    "from pdfminer.pdfinterp\n",
    "import PDFResourceManager, process_pdf\n",
    "from pdfminer.converter import TextConverter\n",
    "from pdfminer.layout import LAParams\n",
    "from io import StringIO\n",
    "# Para abrir um PDF localmente\n",
    "from io import open\n",
    "# Para abrir um PDF online\n",
    "from urllib.request import urlopen"
   ]
  },
  {
   "attachments": {},
   "cell_type": "raw",
   "metadata": {},
   "source": [
    "PDFResourceManager\n",
    "Repositório de recursos compartilhados.\n",
    "ResourceManager facilita a reutilização de recursos compartilhados tais como fontes e imagens, para que objetos não sejam  alocados várias vezes ocupando muito espaço em memória."
   ]
  },
  {
   "cell_type": "raw",
   "metadata": {},
   "source": [
    "LAParams\n",
    "Define os parâmetros que serão passados para a função TextConverter.\n",
    "line_overlap=0.5 (sobreposição de linha)\n",
    "char_margin=2.0 (margem do caracter)\n",
    "line_margin=0.5 (margem da linha)\n",
    "word_margin=0.1 (margem da palavra)\n",
    "paragraph_indent=None (indentação de parágrafo)"
   ]
  },
  {
   "cell_type": "raw",
   "metadata": {},
   "source": [
    "TextConverter\n",
    "Converte o conteúdo do PDF em texto.\n",
    "HTMLConverter\n",
    "Converte o conteúdo do PDF em HTML.\n",
    "XMLConverter\n",
    "Converte o conteúdo do PDF em XML."
   ]
  },
  {
   "cell_type": "raw",
   "metadata": {},
   "source": [
    "Process_pdf\n",
    "process_pdf é uma função que executa as seguintes tarefas:\n",
    "Cria um objeto analisador de PDF associado ao objeto de arquivo.\n",
    "Cria um objeto de documento PDF que armazena a estrutura do documento.\n",
    "Conecta o analisador e os objetos do documento.\n",
    "Fornece a senha ao documento para inicialização (caso você tenha informado uma senha).\n",
    "Verifica se o documento permite a extração de texto. Se não permite, aborta.\n",
    "Cria um objeto de interpretação de PDF.\n",
    "Processa cada página contida no documento."
   ]
  },
  {
   "cell_type": "code",
   "execution_count": 4,
   "metadata": {},
   "outputs": [],
   "source": [
    "def lerPDF(arquivoPDF):\n",
    "    # PDFResourceManager Usado para armazenar recursos compartilhados\n",
    "    # como fontes e imagens\n",
    "    recursos = PDFResourceManager()\n",
    "    buffer = StringIO()\n",
    "    layoutParams = LAParams()\n",
    "    dispositivo = TextConverter(recursos, buffer, laparams=layoutParams)\n",
    "    process_pdf(recursos, dispositivo, arquivoPDF)\n",
    "    dispositivo.close()\n",
    "    conteudo = buffer.getvalue()\n",
    "    buffer.close()\n",
    "    return conteudo\n"
   ]
  },
  {
   "cell_type": "code",
   "execution_count": 5,
   "metadata": {},
   "outputs": [
    {
     "ename": "FileNotFoundError",
     "evalue": "[Errno 2] No such file or directory: 'sumario-9788575226926.pdf'",
     "output_type": "error",
     "traceback": [
      "\u001b[1;31m---------------------------------------------------------------------------\u001b[0m",
      "\u001b[1;31mFileNotFoundError\u001b[0m                         Traceback (most recent call last)",
      "\u001b[1;32m<ipython-input-5-c0d0b0028913>\u001b[0m in \u001b[0;36m<module>\u001b[1;34m()\u001b[0m\n\u001b[0;32m      2\u001b[0m \u001b[1;31m#arquivoPDF = urlopen(\"https://s3.novatec.com.br/sumarios/sumario-9788575226926.pdf\")\u001b[0m\u001b[1;33m\u001b[0m\u001b[1;33m\u001b[0m\u001b[0m\n\u001b[0;32m      3\u001b[0m \u001b[1;31m# Arquivo PDF local (Abrindo modo leitura e binário)\u001b[0m\u001b[1;33m\u001b[0m\u001b[1;33m\u001b[0m\u001b[0m\n\u001b[1;32m----> 4\u001b[1;33m \u001b[0marquivoPDF\u001b[0m \u001b[1;33m=\u001b[0m \u001b[0mopen\u001b[0m\u001b[1;33m(\u001b[0m\u001b[1;34m\"sumario-9788575226926.pdf\"\u001b[0m\u001b[1;33m,\u001b[0m \u001b[1;34m\"rb\"\u001b[0m\u001b[1;33m)\u001b[0m\u001b[1;33m\u001b[0m\u001b[0m\n\u001b[0m\u001b[0;32m      5\u001b[0m \u001b[0mstringSaida\u001b[0m \u001b[1;33m=\u001b[0m \u001b[0mlerPDF\u001b[0m\u001b[1;33m(\u001b[0m\u001b[0marquivoPDF\u001b[0m\u001b[1;33m)\u001b[0m\u001b[1;33m\u001b[0m\u001b[0m\n\u001b[0;32m      6\u001b[0m \u001b[0mprint\u001b[0m\u001b[1;33m(\u001b[0m\u001b[0mstringSaida\u001b[0m\u001b[1;33m)\u001b[0m\u001b[1;33m\u001b[0m\u001b[0m\n",
      "\u001b[1;31mFileNotFoundError\u001b[0m: [Errno 2] No such file or directory: 'sumario-9788575226926.pdf'"
     ]
    }
   ],
   "source": [
    "# Arquivo PDF online\n",
    "#arquivoPDF = urlopen(\"https://s3.novatec.com.br/sumarios/sumario-9788575226926.pdf\")\n",
    "# Arquivo PDF local (Abrindo modo leitura e binário)\n",
    "arquivoPDF = open(\"sumario-9788575226926.pdf\", \"rb\")\n",
    "stringSaida = lerPDF(arquivoPDF)\n",
    "print(stringSaida)\n",
    "arquivoPDF.close()"
   ]
  },
  {
   "cell_type": "markdown",
   "metadata": {},
   "source": [
    "![imagem4](imagens\\Imagem4.png)"
   ]
  },
  {
   "cell_type": "markdown",
   "metadata": {},
   "source": [
    "Convertendo em HTML"
   ]
  },
  {
   "cell_type": "code",
   "execution_count": 6,
   "metadata": {},
   "outputs": [
    {
     "ename": "ModuleNotFoundError",
     "evalue": "No module named 'pdfminer'",
     "output_type": "error",
     "traceback": [
      "\u001b[1;31m---------------------------------------------------------------------------\u001b[0m",
      "\u001b[1;31mModuleNotFoundError\u001b[0m                       Traceback (most recent call last)",
      "\u001b[1;32m<ipython-input-6-e290f94714b4>\u001b[0m in \u001b[0;36m<module>\u001b[1;34m()\u001b[0m\n\u001b[1;32m----> 1\u001b[1;33m \u001b[1;32mfrom\u001b[0m \u001b[0mpdfminer\u001b[0m\u001b[1;33m.\u001b[0m\u001b[0mpdfinterp\u001b[0m \u001b[1;32mimport\u001b[0m \u001b[0mPDFResourceManager\u001b[0m\u001b[1;33m,\u001b[0m \u001b[0mprocess_pdf\u001b[0m\u001b[1;33m\u001b[0m\u001b[0m\n\u001b[0m\u001b[0;32m      2\u001b[0m \u001b[1;32mfrom\u001b[0m \u001b[0mpdfminer\u001b[0m\u001b[1;33m.\u001b[0m\u001b[0mconverter\u001b[0m \u001b[1;32mimport\u001b[0m \u001b[0mHTMLConverter\u001b[0m\u001b[1;33m\u001b[0m\u001b[0m\n\u001b[0;32m      3\u001b[0m \u001b[1;32mfrom\u001b[0m \u001b[0mpdfminer\u001b[0m\u001b[1;33m.\u001b[0m\u001b[0mlayout\u001b[0m \u001b[1;32mimport\u001b[0m \u001b[0mLAParams\u001b[0m\u001b[1;33m\u001b[0m\u001b[0m\n\u001b[0;32m      4\u001b[0m \u001b[1;32mfrom\u001b[0m \u001b[0mio\u001b[0m \u001b[1;32mimport\u001b[0m \u001b[0mStringIO\u001b[0m\u001b[1;33m\u001b[0m\u001b[0m\n\u001b[0;32m      5\u001b[0m \u001b[1;32mfrom\u001b[0m \u001b[0murllib\u001b[0m\u001b[1;33m.\u001b[0m\u001b[0mrequest\u001b[0m \u001b[1;32mimport\u001b[0m \u001b[0murlopen\u001b[0m\u001b[1;33m\u001b[0m\u001b[0m\n",
      "\u001b[1;31mModuleNotFoundError\u001b[0m: No module named 'pdfminer'"
     ]
    }
   ],
   "source": [
    "from pdfminer.pdfinterp import PDFResourceManager, process_pdf\n",
    "from pdfminer.converter import HTMLConverter\n",
    "from pdfminer.layout import LAParams\n",
    "from io import StringIO\n",
    "from urllib.request import urlopen\n",
    "\n",
    "def lerPDF(arquivo):\n",
    "    recursos = PDFResourceManager()\n",
    "    buffer = StringIO()\n",
    "    layoutParams = LAParams()\n",
    "    disp = HTMLConverter(recursos, buffer, laparams=layoutParams)\n",
    "\t\n",
    "    process_pdf(recursos, disp, arquivo)\n",
    "    disp.close()\n",
    "\t\n",
    "    conteudo = buffer.getvalue()\n",
    "    buffer.close()\n",
    "    return conteudo\n",
    "\t\n",
    "arquivoPDF = urlopen(\"https://s3.novatec.com.br/sumarios/sumario-9788575226926.pdf\")\n",
    "saida = lerPDF(arquivoPDF)\n",
    "print(saida)\n",
    "arquivoPDF.close()"
   ]
  },
  {
   "attachments": {},
   "cell_type": "markdown",
   "metadata": {},
   "source": [
    "Convertendo em XML"
   ]
  },
  {
   "cell_type": "code",
   "execution_count": 7,
   "metadata": {},
   "outputs": [
    {
     "ename": "ModuleNotFoundError",
     "evalue": "No module named 'pdfminer'",
     "output_type": "error",
     "traceback": [
      "\u001b[1;31m---------------------------------------------------------------------------\u001b[0m",
      "\u001b[1;31mModuleNotFoundError\u001b[0m                       Traceback (most recent call last)",
      "\u001b[1;32m<ipython-input-7-2a4e70019477>\u001b[0m in \u001b[0;36m<module>\u001b[1;34m()\u001b[0m\n\u001b[1;32m----> 1\u001b[1;33m \u001b[1;32mfrom\u001b[0m \u001b[0mpdfminer\u001b[0m\u001b[1;33m.\u001b[0m\u001b[0mpdfinterp\u001b[0m \u001b[1;32mimport\u001b[0m \u001b[0mPDFResourceManager\u001b[0m\u001b[1;33m,\u001b[0m \u001b[0mprocess_pdf\u001b[0m\u001b[1;33m\u001b[0m\u001b[0m\n\u001b[0m\u001b[0;32m      2\u001b[0m \u001b[1;32mfrom\u001b[0m \u001b[0mpdfminer\u001b[0m\u001b[1;33m.\u001b[0m\u001b[0mconverter\u001b[0m \u001b[1;32mimport\u001b[0m \u001b[0mXMLConverter\u001b[0m\u001b[1;33m\u001b[0m\u001b[0m\n\u001b[0;32m      3\u001b[0m \u001b[1;32mfrom\u001b[0m \u001b[0mpdfminer\u001b[0m\u001b[1;33m.\u001b[0m\u001b[0mlayout\u001b[0m \u001b[1;32mimport\u001b[0m \u001b[0mLAParams\u001b[0m\u001b[1;33m\u001b[0m\u001b[0m\n\u001b[0;32m      4\u001b[0m \u001b[1;32mfrom\u001b[0m \u001b[0mio\u001b[0m \u001b[1;32mimport\u001b[0m \u001b[0mStringIO\u001b[0m\u001b[1;33m\u001b[0m\u001b[0m\n\u001b[0;32m      5\u001b[0m \u001b[1;32mfrom\u001b[0m \u001b[0murllib\u001b[0m\u001b[1;33m.\u001b[0m\u001b[0mrequest\u001b[0m \u001b[1;32mimport\u001b[0m \u001b[0murlopen\u001b[0m\u001b[1;33m\u001b[0m\u001b[0m\n",
      "\u001b[1;31mModuleNotFoundError\u001b[0m: No module named 'pdfminer'"
     ]
    }
   ],
   "source": [
    "from pdfminer.pdfinterp import PDFResourceManager, process_pdf\n",
    "from pdfminer.converter import XMLConverter\n",
    "from pdfminer.layout import LAParams\n",
    "from io import StringIO\n",
    "from urllib.request import urlopen\n",
    "\n",
    "def lerPDF(arquivo):\n",
    "    recursos = PDFResourceManager()\n",
    "    buffer = StringIO()\n",
    "    layoutParams = LAParams()\n",
    "    disp = XMLConverter(recursos, buffer, laparams=layoutParams)\n",
    "    \n",
    "    process_pdf(recursos, disp, arquivo)\n",
    "    disp.close()\n",
    "    conteudo = buffer.getvalue()\n",
    "    buffer.close()\n",
    "    return conteudo\n",
    "\n",
    "arquivoPDF = urlopen(\"https://s3.novatec.com.br/sumarios/sumario-9788575226926.pdf\")\n",
    "saida = lerPDF(arquivoPDF)\n",
    "print(saida)\n",
    "arquivoPDF.close()\n"
   ]
  },
  {
   "attachments": {},
   "cell_type": "markdown",
   "metadata": {},
   "source": [
    "Obs.: Para exportar para XML e HTML tive que alterar o arquivo \n",
    "\n",
    "“Python36\\Lib\\site-packages\\pdfminer\\utils.py”\n",
    "\n",
    "da biblioteca pdfminer e estou disponibilizando em anexo à aula.\n",
    "\n",
    "A função htmlescape tem que ser corrigida.\n",
    "\n",
    "def htmlescape(s, encoding=None):\n",
    "    \"\"\"Escapes a string for SGML/XML/HTML\"\"\"\n",
    "    s = s.replace('&','&amp;').replace('>','&gt;').replace('<','&lt;').replace('\"','&quot;')\n",
    "    # Additionally to basic replaces, we also make sure that all characters are convertible to our\n",
    "    # target encoding. If they're not, they're replaced by XML entities.\n",
    "    if not encoding:\n",
    "        encoding = 'ascii'\n",
    "    encoded = s.encode(encoding, errors='xmlcharrefreplace')\n",
    "    return encoded.decode(encoding)\n"
   ]
  },
  {
   "cell_type": "code",
   "execution_count": null,
   "metadata": {},
   "outputs": [],
   "source": []
  }
 ],
 "metadata": {
  "kernelspec": {
   "display_name": "Python 3",
   "language": "python",
   "name": "python3"
  },
  "language_info": {
   "codemirror_mode": {
    "name": "ipython",
    "version": 3
   },
   "file_extension": ".py",
   "mimetype": "text/x-python",
   "name": "python",
   "nbconvert_exporter": "python",
   "pygments_lexer": "ipython3",
   "version": "3.6.5"
  }
 },
 "nbformat": 4,
 "nbformat_minor": 2
}
