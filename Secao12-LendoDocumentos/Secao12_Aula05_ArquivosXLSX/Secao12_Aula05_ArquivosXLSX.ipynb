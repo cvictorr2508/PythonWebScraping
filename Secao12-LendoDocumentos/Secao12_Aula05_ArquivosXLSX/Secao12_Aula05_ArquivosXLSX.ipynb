{
 "cells": [
  {
   "cell_type": "markdown",
   "metadata": {},
   "source": [
    "# CURSO PYTHON WEB SCRAPING"
   ]
  },
  {
   "cell_type": "markdown",
   "metadata": {},
   "source": [
    "https://www.udemy.com/python-web-scraping/"
   ]
  },
  {
   "cell_type": "raw",
   "metadata": {},
   "source": [
    "Evaldo Wolkers"
   ]
  },
  {
   "cell_type": "markdown",
   "metadata": {},
   "source": [
    "## Lendo documentos"
   ]
  },
  {
   "cell_type": "markdown",
   "metadata": {},
   "source": [
    "## Arquivos XLSX (Microsoft Excel)"
   ]
  },
  {
   "attachments": {},
   "cell_type": "markdown",
   "metadata": {},
   "source": [
    "Os arquivos XLSX (Microsoft Excel Open XML Spreadsheet) são criados usando o padrão Open XML, que foi introduzido no Microsoft Office 2007. Eles são armazenados como um arquivo compactado (similar ao arquivo DOCX apresentado na aula anterior), que contém uma coleção de arquivos individuais. O arquivo XLSX inclui o arquivo [Content_Types].xml, que descreve a planilha e um arquivo XML para cada pasta de trabalho na planilha."
   ]
  },
  {
   "attachments": {},
   "cell_type": "markdown",
   "metadata": {},
   "source": [
    "Para trabalharmos com arquivos XLSX podemos utilizar a biblioteca OpenPyXL que pode ser instalada utilizando-se o pip."
   ]
  },
  {
   "attachments": {},
   "cell_type": "markdown",
   "metadata": {},
   "source": [
    "$ pip install openpyxl"
   ]
  },
  {
   "cell_type": "markdown",
   "metadata": {},
   "source": [
    "Vamos utilizar a biblioteca OpenPyXL para ler o arquivo “Precos.xlsx” que foi disponibilizado junto aos arquivos da aula."
   ]
  },
  {
   "cell_type": "markdown",
   "metadata": {},
   "source": [
    "O arquivo “Precos.xlxs” é uma pasta de trabalho, ou workbook.<br>\n",
    "“Tabela de preços” é uma planinha, ou worksheet."
   ]
  },
  {
   "cell_type": "markdown",
   "metadata": {},
   "source": [
    "![img1](imagens\\picture1.png)"
   ]
  },
  {
   "cell_type": "markdown",
   "metadata": {},
   "source": [
    "Para abrir um arquivo XLSX temos que utilizar a função load_workbook do módulo openpyxl passando o caminho completo do arquivo como parâmetro.<br>\n",
    "Esta função retorna um objeto do tipo workbook (pasta de trabalho)."
   ]
  },
  {
   "cell_type": "raw",
   "metadata": {},
   "source": [
    "from openpyxl import load_workbook\n",
    "\n",
    "wb = load_workbook('Precos.xlsx')"
   ]
  },
  {
   "cell_type": "markdown",
   "metadata": {},
   "source": [
    "Acima estou considerando que o arquivo está na mesma pasta do meu arquivo Python."
   ]
  },
  {
   "cell_type": "markdown",
   "metadata": {},
   "source": [
    "Após abrir o arquivo, podemos trabalhar com as planilhas que estão dentro deste arquivo.<br>\n",
    "Podemos criar um objeto que receba uma planilha da pasta de trabalho da seguinte forma:<br>\n",
    "planilha = wb.active<br>\n",
    "Desta forma estamos considerando a planilha ativa.<br><br>\n",
    "\n",
    "Ou podemos informar o nome da planilha:<br>\n",
    "planilha = wb[“Tabela de preços”]"
   ]
  },
  {
   "cell_type": "markdown",
   "metadata": {},
   "source": [
    "![img2](imagens\\picture2.png)"
   ]
  },
  {
   "cell_type": "markdown",
   "metadata": {},
   "source": [
    "Para capturar o conteúdo de uma célula da planilha podemos informar o seu endereço, que é composto pela junção da coluna e linha de localização da célula.\n"
   ]
  },
  {
   "cell_type": "markdown",
   "metadata": {},
   "source": [
    "![img3](imagens\\picture3.png)"
   ]
  },
  {
   "cell_type": "markdown",
   "metadata": {},
   "source": [
    "Podemos criar um objeto do tipo célula (Cell) informando a referência da célula desta forma:<br>\n",
    "celula = planilha[‘A1’]<br>\n",
    "Ou desta forma:<br>\n",
    "celula = planilha.cell(linha=númerolinha, coluna=númerocoluna)<br>\n",
    "Ficando assim:<br>\n",
    "celula = planilha.cell(row=1, column=1) # equivale a “A1”.<br>\n",
    "Para obter o valor da célula usamos celula.value.<br>"
   ]
  },
  {
   "cell_type": "markdown",
   "metadata": {},
   "source": [
    "Veja agora o exemplo completo:"
   ]
  },
  {
   "cell_type": "code",
   "execution_count": 4,
   "metadata": {},
   "outputs": [
    {
     "name": "stdout",
     "output_type": "stream",
     "text": [
      "Tabela de Preços Nov/2018\n",
      "Tabela de Preços Nov/2018\n"
     ]
    }
   ],
   "source": [
    "from openpyxl import load_workbook\n",
    "\n",
    "wb = load_workbook('Precos.xlsx')\n",
    "\n",
    "planilha = wb['Tabela de preços']\n",
    "\n",
    "a1 = planilha['A1']\u000b",
    "print(a1.value)\n",
    "\n",
    "a1 = planilha.cell(row=1, column=1)\n",
    "print(a1.value)"
   ]
  },
  {
   "cell_type": "markdown",
   "metadata": {},
   "source": [
    "![img4](imagens\\picture4.png)"
   ]
  },
  {
   "cell_type": "markdown",
   "metadata": {},
   "source": [
    "Foi impresso o conteúdo da célula “A1”:<br>\n",
    "Tabela de Preços Nov/2018"
   ]
  },
  {
   "cell_type": "markdown",
   "metadata": {},
   "source": [
    "Podemos também criar um objeto de célula contendo um intervalo de células. Vou por exemplo armazenar o conteúdo das células de A3 até D12 em uma variável e imprimir cada célula do intervalo."
   ]
  },
  {
   "cell_type": "markdown",
   "metadata": {},
   "source": [
    "![img5](imagens\\picture5.png)"
   ]
  },
  {
   "cell_type": "markdown",
   "metadata": {},
   "source": [
    "Veja o programa:"
   ]
  },
  {
   "cell_type": "code",
   "execution_count": 5,
   "metadata": {},
   "outputs": [
    {
     "name": "stdout",
     "output_type": "stream",
     "text": [
      " 1 Notebook Ideapad 320 Intel Core i3 4GB 1TB Full HD 15.6'' Prata Windows 10 - Lenovo          25    1699.99\n",
      " 2 Micro-ondas Consul CM020 20 Litros Cinza Espelhado                                          100     389.64\n",
      " 3 Capa Para Notebook 15.6\"                                                                    214       35.9\n",
      " 4 Smartphone Samsung Galaxy J1 Mini Android 5.1 Tela 4\" 8GB 3G Wi-Fi Câmera 5MP - Preto        30        389\n",
      " 5 Teclado e Mouse Wireless MK220 sem Fio - Logitech                                            65      79.99\n",
      " 6 Smart TV QLED 65\" Samsung 2018 QN65Q6FNAGXZD Ultra HD 4k                                     10   11999.99\n",
      " 7 Lavadora De Roupas Colormaq Tanquinho 2,7kg New Pionner 127v, Branca                         44      329.9\n",
      " 8 Jogo de Panelas Panelux Premium Alumínio 10 peças Antiaderente Vermelha                       1     129.99\n",
      " 9 iPhone Xs Max Prata 256GB IOS12 4G + Wi-fi Câmera 12MP - Apple                                0       8799\n",
      "10 Secador Ph3600 Colors 127v - Philco                                                         364      89.99\n"
     ]
    }
   ],
   "source": [
    "from openpyxl import load_workbook\n",
    "\n",
    "wb = load_workbook('Precos.xlsx')\n",
    "\n",
    "planilha = wb['Tabela de preços']\n",
    "\n",
    "cells = planilha['A3:D12']\n",
    "\n",
    "for c1, c2, c3, c4 in cells:\n",
    "    print(\"{0:2} {1:90} {2:4} {3:10}\".\n",
    "          format(c1.value, c2.value, c3.value, c4.value))"
   ]
  },
  {
   "cell_type": "markdown",
   "metadata": {},
   "source": [
    "Estamos informando para o método format o argumento por posição (0,1,2,3) e definindo a largura que irá ocupar (2, 90, 4, 10)."
   ]
  },
  {
   "cell_type": "markdown",
   "metadata": {},
   "source": [
    "Veja o resultado:"
   ]
  },
  {
   "cell_type": "markdown",
   "metadata": {},
   "source": [
    "![img6](imagens\\picture6.png)"
   ]
  },
  {
   "attachments": {},
   "cell_type": "markdown",
   "metadata": {},
   "source": [
    "Imprimindo as descrições de todos os produtos:"
   ]
  },
  {
   "cell_type": "code",
   "execution_count": 6,
   "metadata": {},
   "outputs": [
    {
     "name": "stdout",
     "output_type": "stream",
     "text": [
      "Notebook Ideapad 320 Intel Core i3 4GB 1TB Full HD 15.6'' Prata Windows 10 - Lenovo\n",
      "Micro-ondas Consul CM020 20 Litros Cinza Espelhado\n",
      "Capa Para Notebook 15.6\"\n",
      "Smartphone Samsung Galaxy J1 Mini Android 5.1 Tela 4\" 8GB 3G Wi-Fi Câmera 5MP - Preto\n",
      "Teclado e Mouse Wireless MK220 sem Fio - Logitech\n",
      "Smart TV QLED 65\" Samsung 2018 QN65Q6FNAGXZD Ultra HD 4k\n",
      "Lavadora De Roupas Colormaq Tanquinho 2,7kg New Pionner 127v, Branca\n",
      "Jogo de Panelas Panelux Premium Alumínio 10 peças Antiaderente Vermelha\n",
      "iPhone Xs Max Prata 256GB IOS12 4G + Wi-fi Câmera 12MP - Apple\n",
      "Secador Ph3600 Colors 127v - Philco\n"
     ]
    }
   ],
   "source": [
    "from openpyxl import load_workbook\n",
    "\n",
    "wb = load_workbook('Precos.xlsx')\n",
    "\n",
    "planilha = wb['Tabela de preços']\n",
    "\n",
    "for linha in range(3, 13):\n",
    "    descricao = planilha[f'B{linha}']\n",
    "    print(descricao.value)"
   ]
  },
  {
   "attachments": {},
   "cell_type": "markdown",
   "metadata": {},
   "source": [
    "Somando a quantidade total em estoque (não pegando somente o conteúdo da célula C13 que já tem a soma)."
   ]
  },
  {
   "cell_type": "code",
   "execution_count": 7,
   "metadata": {},
   "outputs": [
    {
     "name": "stdout",
     "output_type": "stream",
     "text": [
      "853\n"
     ]
    }
   ],
   "source": [
    "from openpyxl import load_workbook\n",
    "\n",
    "wb = load_workbook('Precos.xlsx')\n",
    "planilha = wb['Tabela de preços']\n",
    "\n",
    "qtd = 0\n",
    "\n",
    "for linha in range(3, 13):\n",
    "    qtd += planilha[f'C{linha}'].value\n",
    "\n",
    "print(qtd)"
   ]
  },
  {
   "cell_type": "markdown",
   "metadata": {},
   "source": [
    "Para adicionar uma nova planilha à nossa pasta de trabalho podemos utilizar a função create_sheet(‘nome’), onde ‘nome’ é o nome/título da planilha que será criada. Em seguida o arquivo deve ser salvo."
   ]
  },
  {
   "cell_type": "code",
   "execution_count": 8,
   "metadata": {},
   "outputs": [],
   "source": [
    "from openpyxl import load_workbook\n",
    "\n",
    "arquivo = 'Precos.xlsx'\n",
    "wb = load_workbook(arquivo)\n",
    "\n",
    "wb.create_sheet('Planilha de carros')\n",
    "\n",
    "wb.save(arquivo)"
   ]
  },
  {
   "cell_type": "markdown",
   "metadata": {},
   "source": [
    "![img7](imagens\\picture7.png)"
   ]
  },
  {
   "cell_type": "markdown",
   "metadata": {},
   "source": [
    "Para remover uma planilha usamos o método remove do objeto workbook."
   ]
  },
  {
   "cell_type": "code",
   "execution_count": 10,
   "metadata": {},
   "outputs": [],
   "source": [
    "from openpyxl import load_workbook\n",
    "\n",
    "arquivo = 'Precos.xlsx'\n",
    "wb = load_workbook(arquivo)\n",
    "\n",
    "wb.remove(wb['Planilha de carros'])\n",
    "\n",
    "wb.save(arquivo)"
   ]
  },
  {
   "cell_type": "markdown",
   "metadata": {},
   "source": [
    "Para copiar uma planilha usamos o método copy_worksheet do objeto workbook."
   ]
  },
  {
   "cell_type": "code",
   "execution_count": 11,
   "metadata": {},
   "outputs": [],
   "source": [
    "from openpyxl import load_workbook\n",
    "\n",
    "arquivo = 'Precos.xlsx'\n",
    "wb = load_workbook(arquivo)\n",
    "\n",
    "origem = wb['Tabela de preços']\n",
    "destino = wb.copy_worksheet(origem)\n",
    "destino.title = 'Nova tabela de preços'\n",
    "\n",
    "wb.save(arquivo)"
   ]
  },
  {
   "cell_type": "markdown",
   "metadata": {},
   "source": [
    "Para alterar o conteúdo de uma célula devemos passar um valor usando o endereço da célula:"
   ]
  },
  {
   "cell_type": "code",
   "execution_count": 12,
   "metadata": {},
   "outputs": [],
   "source": [
    "from openpyxl import load_workbook\n",
    "\n",
    "arquivo = 'Precos.xlsx'\n",
    "wb = load_workbook(arquivo)\n",
    "\n",
    "planilha = wb['Nova tabela de preços']\n",
    "planilha['A1'] = 'Tabela de Preços Dez/2018'\n",
    "\n",
    "wb.save(arquivo)"
   ]
  },
  {
   "cell_type": "markdown",
   "metadata": {},
   "source": [
    "![img8](imagens\\picture8.png)"
   ]
  },
  {
   "cell_type": "markdown",
   "metadata": {},
   "source": [
    "Para criar um arquivo temos que criar um objeto da classe Workbook e salvar informando o nome do arquivo."
   ]
  },
  {
   "cell_type": "code",
   "execution_count": 13,
   "metadata": {},
   "outputs": [],
   "source": [
    "from openpyxl import Workbook\n",
    "\n",
    "wb = Workbook()\n",
    "wb.save('MeusNumeros.xlsx')"
   ]
  },
  {
   "cell_type": "markdown",
   "metadata": {},
   "source": [
    "Vamos agora criar este arquivo e adicionar conteúdo usando o método append do objeto Worksheet."
   ]
  },
  {
   "cell_type": "code",
   "execution_count": 14,
   "metadata": {},
   "outputs": [],
   "source": [
    "from openpyxl import Workbook\n",
    "\n",
    "wb = Workbook()\n",
    "planilha = wb.active\n",
    "\n",
    "linhas = (\n",
    "    (14, 11, 44, 48),\n",
    "    (12, 21, 12, 136),\n",
    "    (55, 22, 58, 125),\n",
    "    (98, 66, 47, 66),\n",
    "    (14, 18, 36, 84),\n",
    "    (78, 18, 67, 75)\n",
    ")\n",
    "\n",
    "for linha in linhas:\n",
    "    planilha.append(linha)\n",
    "\n",
    "wb.save('MeusNumeros.xlsx')"
   ]
  },
  {
   "cell_type": "markdown",
   "metadata": {},
   "source": [
    "![img9](imagens\\picture9.png)"
   ]
  },
  {
   "cell_type": "markdown",
   "metadata": {},
   "source": [
    "Vamos inserir uma linha e uma coluna em nossa planilha.<br>\n",
    "Para inserir uma linha usamos o método insert_rows(x) e para inserir uma coluna o insert_cols(x).<br>\n",
    "“x” é a posição da linha ou coluna."
   ]
  },
  {
   "cell_type": "markdown",
   "metadata": {},
   "source": [
    "![img10](imagens\\picture10.png)"
   ]
  },
  {
   "cell_type": "markdown",
   "metadata": {},
   "source": [
    "Vamos inserir uma linha e uma coluna para colocarmos cabeçalhos em nossa planilha de números."
   ]
  },
  {
   "cell_type": "code",
   "execution_count": 17,
   "metadata": {},
   "outputs": [],
   "source": [
    "from openpyxl import load_workbook\n",
    "\n",
    "wb = load_workbook('MeusNumeros.xlsx')\n",
    "\n",
    "planilha = wb['Sheet']\n",
    "\n",
    "planilha.insert_rows(1)\n",
    "planilha.insert_cols(1)\n",
    "\n",
    "wb.save('MeusNumeros.xlsx')"
   ]
  },
  {
   "cell_type": "markdown",
   "metadata": {},
   "source": [
    "![img11](imagens\\picture11.png)"
   ]
  },
  {
   "cell_type": "markdown",
   "metadata": {},
   "source": [
    "Agora vamos mesclar as células."
   ]
  },
  {
   "cell_type": "code",
   "execution_count": 18,
   "metadata": {},
   "outputs": [],
   "source": [
    "from openpyxl import load_workbook\n",
    "\n",
    "wb = load_workbook('MeusNumeros.xlsx')\n",
    "\n",
    "planilha = wb['Sheet']\n",
    "\n",
    "planilha.merge_cells(start_row=1, start_column=2, end_row=1, end_column=5)\n",
    "planilha.merge_cells(\"A2:A7\")\n",
    "\n",
    "wb.save('MeusNumeros.xlsx')"
   ]
  },
  {
   "cell_type": "markdown",
   "metadata": {},
   "source": [
    "![img12](imagens\\picture12.png)"
   ]
  },
  {
   "cell_type": "markdown",
   "metadata": {},
   "source": [
    "Agora vamos separar as células mescladas da primeira coluna.<br>\n",
    "Vamos alterar o alinhamento da célula onde ficará o título “NÚMEROS” para centralizado."
   ]
  },
  {
   "cell_type": "code",
   "execution_count": 19,
   "metadata": {},
   "outputs": [],
   "source": [
    "from openpyxl import load_workbook\n",
    "from openpyxl.styles import Alignment\n",
    "wb = load_workbook('MeusNumeros.xlsx')\n",
    "\n",
    "planilha = wb['Sheet']\n",
    "\n",
    "planilha.unmerge_cells(\"A2:A7\")\n",
    "planilha['B1'] = \"NÚMEROS\"\n",
    "planilha['B1'].alignment = Alignment(horizontal='center')\n",
    "wb.save('MeusNumeros.xlsx')"
   ]
  },
  {
   "cell_type": "markdown",
   "metadata": {},
   "source": [
    "![img13](imagens\\picture13.png)"
   ]
  },
  {
   "cell_type": "markdown",
   "metadata": {},
   "source": [
    "Utilizando fórmulas do Excel."
   ]
  },
  {
   "cell_type": "code",
   "execution_count": 20,
   "metadata": {},
   "outputs": [],
   "source": [
    "from openpyxl import load_workbook\n",
    "\n",
    "wb = load_workbook('MeusNumeros.xlsx')\n",
    "\n",
    "planilha = wb['Sheet']\n",
    "\n",
    "planilha['B8'] = \"=SUM(B2:B7)\"\n",
    "planilha['C8'] = \"=SUM(C2:C7)\"\n",
    "planilha['D8'] = \"=SUM(D2:D7)\"\n",
    "planilha['E8'] = \"=SUM(E2:E7)\"\n",
    "\n",
    "planilha['F2'] = \"=AVERAGE(B2:E2)\"\n",
    "planilha['F3'] = \"=AVERAGE(B3:E3)\"\n",
    "planilha['F4'] = \"=AVERAGE(B4:E4)\"\n",
    "planilha['F5'] = \"=AVERAGE(B5:E5)\"\n",
    "planilha['F6'] = \"=AVERAGE(B6:E6)\"\n",
    "planilha['F7'] = \"=AVERAGE(B7:E7)\"\n",
    "\n",
    "planilha['G2'] = '=IF(E1>50,\"LIKE\",\"DISLIKE\")'\n",
    "planilha['G3'] = '=IF(E2>50,\"LIKE\",\"DISLIKE\")'\n",
    "planilha['G4'] = '=IF(E3>50,\"LIKE\",\"DISLIKE\")'\n",
    "planilha['G5'] = '=IF(E4>50,\"LIKE\",\"DISLIKE\")'\n",
    "planilha['G6'] = '=IF(E5>50,\"LIKE\",\"DISLIKE\")'\n",
    "planilha['G7'] = '=IF(E6>50,\"LIKE\",\"DISLIKE\")'\n",
    "\n",
    "wb.save('MeusNumeros.xlsx')"
   ]
  },
  {
   "cell_type": "markdown",
   "metadata": {},
   "source": [
    "![img14](imagens\\picture14.png)"
   ]
  },
  {
   "cell_type": "markdown",
   "metadata": {},
   "source": [
    "Formatando células"
   ]
  },
  {
   "cell_type": "code",
   "execution_count": 21,
   "metadata": {},
   "outputs": [],
   "source": [
    "from openpyxl import load_workbook\n",
    "from openpyxl.styles import Font\n",
    "from openpyxl.styles.colors import BLUE, RED\n",
    "\n",
    "wb = load_workbook('MeusNumeros.xlsx')\n",
    "\n",
    "planilha = wb['Sheet']\n",
    "\n",
    "fonte_titulo = Font(bold=True, size=12, color=RED)\n",
    "fonte_total = Font(bold=True, color=BLUE)\n",
    "\n",
    "planilha['B1'].font = fonte_titulo\n",
    "planilha['B8'].font = fonte_total\n",
    "planilha['C8'].font = fonte_total\n",
    "planilha['D8'].font = fonte_total\n",
    "planilha['E8'].font = fonte_total\n",
    "\n",
    "wb.save('MeusNumeros.xlsx')"
   ]
  },
  {
   "cell_type": "markdown",
   "metadata": {},
   "source": [
    "![img15](imagens\\picture15.png)"
   ]
  },
  {
   "cell_type": "code",
   "execution_count": null,
   "metadata": {},
   "outputs": [],
   "source": []
  }
 ],
 "metadata": {
  "kernelspec": {
   "display_name": "Python 3",
   "language": "python",
   "name": "python3"
  },
  "language_info": {
   "codemirror_mode": {
    "name": "ipython",
    "version": 3
   },
   "file_extension": ".py",
   "mimetype": "text/x-python",
   "name": "python",
   "nbconvert_exporter": "python",
   "pygments_lexer": "ipython3",
   "version": "3.6.5"
  }
 },
 "nbformat": 4,
 "nbformat_minor": 2
}
